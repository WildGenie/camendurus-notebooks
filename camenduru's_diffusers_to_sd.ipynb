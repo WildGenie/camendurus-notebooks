{
  "nbformat": 4,
  "nbformat_minor": 0,
  "metadata": {
    "colab": {
      "provenance": []
    },
    "kernelspec": {
      "name": "python3",
      "display_name": "Python 3"
    },
    "language_info": {
      "name": "python"
    }
  },
  "cells": [
    {
      "cell_type": "markdown",
      "metadata": {
        "id": "view-in-github"
      },
      "source": [
        "[![Open In Colab](https://colab.research.google.com/assets/colab-badge.svg)](https://colab.research.google.com/github/camenduru/notebooks/blob/main/camenduru's_diffusers_to_sd.ipynb)"
      ]
    },
    {
      "cell_type": "code",
      "source": [
        "!pip -qq install huggingface-hub\n",
        "!wget -q https://gist.github.com/jachiam/8a5c0b607e38fcc585168b90c686eb05/raw/2af0a9c0237ed98b863a75e1db21d7ed5541094f/convert_diffusers_to_sd.py\n",
        "!git lfs install\n",
        "from huggingface_hub import notebook_login\n",
        "!git config --global credential.helper store\n",
        "notebook_login()"
      ],
      "metadata": {
        "id": "W_hvBD84lggc"
      },
      "execution_count": null,
      "outputs": []
    },
    {
      "cell_type": "code",
      "source": [
        "model_name = \"modelname\" #@param {type:\"string\"}\n",
        "!git clone https://huggingface.co/camenduru/$model_name\n",
        "\n",
        "model_name_ckpt = f\"/content/{model_name}_ckpt\"\n",
        "!mkdir $model_name_ckpt\n",
        "\n",
        "ckpt_path = f\"/content/{model_name}_ckpt/{model_name}.ckpt\"\n",
        "!python convert_diffusers_to_sd.py --model_path /content/$model_name --checkpoint_path $ckpt_path \n",
        "\n",
        "ckpt_path = f\"/content/{model_name}_ckpt/{model_name}_fp16.ckpt\"\n",
        "!python convert_diffusers_to_sd.py --model_path /content/$model_name --checkpoint_path $ckpt_path --half\n",
        "\n",
        "from slugify import slugify\n",
        "from huggingface_hub import HfApi, HfFolder, CommitOperationAdd\n",
        "from huggingface_hub import create_repo\n",
        "from IPython.display import display_markdown\n",
        "api = HfApi()\n",
        "your_username = api.whoami()[\"name\"]\n",
        "repo_id = f\"{your_username}/{slugify(model_name)}_ckpt\"\n",
        "with open(HfFolder.path_token, 'r') as fin: hf_token = fin.read();\n",
        "\n",
        "operations = []\n",
        "create_repo(repo_id,private=True, token=hf_token)\n",
        "api.create_commit(repo_id=repo_id,operations=operations,commit_message=f\"{model_name}\",token=hf_token)\n",
        "api.upload_folder(folder_path=f\"/content/{model_name}_ckpt\",path_in_repo=\"\",repo_id=repo_id,token=hf_token)\n",
        "\n",
        "display_markdown(f'https://huggingface.co/{repo_id}', raw=True)"
      ],
      "metadata": {
        "id": "V8DWrvEhlJNT"
      },
      "execution_count": null,
      "outputs": []
    }
  ]
}
