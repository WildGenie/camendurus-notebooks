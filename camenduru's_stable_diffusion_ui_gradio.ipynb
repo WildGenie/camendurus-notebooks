{
  "nbformat": 4,
  "nbformat_minor": 0,
  "metadata": {
    "colab": {
      "private_outputs": true,
      "provenance": [],
      "collapsed_sections": []
    },
    "kernelspec": {
      "name": "python3",
      "display_name": "Python 3"
    },
    "language_info": {
      "name": "python"
    },
    "accelerator": "GPU",
    "gpuClass": "standard"
  },
  "cells": [
    {
      "cell_type": "markdown",
      "metadata": {
        "id": "view-in-github"
      },
      "source": [
        "[![Open In Colab](https://colab.research.google.com/assets/colab-badge.svg)](https://colab.research.google.com/github/camenduru/notebooks/blob/main/camenduru's_stable_diffusion_ui_gradio.ipynb)"
      ]
    },
    {
      "cell_type": "code",
      "source": [
        "!git clone https://github.com/AUTOMATIC1111/stable-diffusion-webui\n",
        "!wget -q https://gist.githubusercontent.com/camenduru/9ec5f8141db9902e375967e93250860f/raw/c1a03eb447548adbef1858c0e69d3567a390d2f4/run_n_times.py -O /content/stable-diffusion-webui/scripts/run_n_times.py\n",
        "%cd stable-diffusion-webui\n",
        "\n",
        "!pip install -qq -r requirements.txt\n",
        "!mkdir repositories\n",
        "!git clone https://github.com/CompVis/stable-diffusion.git repositories/stable-diffusion\n",
        "!git clone https://github.com/CompVis/taming-transformers.git repositories/taming-transformers\n",
        "!git clone https://github.com/crowsonkb/k-diffusion.git repositories/k-diffusion\n",
        "!git clone https://github.com/salesforce/BLIP.git repositories/BLIP\n",
        "!git clone https://github.com/sczhou/CodeFormer.git repositories/CodeFormer\n",
        "!pip install -qq -r repositories/CodeFormer/requirements.txt\n",
        "!pip install -qq git+https://github.com/openai/CLIP.git@d50d76daa670286dd6cacf3bcd80b5e4823fc8e1\n",
        "\n",
        "!wget https://huggingface.co/camenduru/sd14/resolve/main/sd-v1-4.ckpt -O /content/stable-diffusion-webui/models/Stable-diffusion/sd-v1-4.ckpt\n",
        "!wget https://huggingface.co/hakurei/waifu-diffusion-v1-3/resolve/main/model-epoch08-float32.ckpt -O /content/stable-diffusion-webui/models/Stable-diffusion/waifu-v1-3-e8.ckpt\n",
        "\n",
        "!python webui.py --share --opt-split-attention"
      ],
      "metadata": {
        "id": "SaAJk33ppFw1"
      },
      "execution_count": null,
      "outputs": []
    },
    {
      "cell_type": "code",
      "source": [
        "!zip -r /content/outputs.zip outputs/"
      ],
      "metadata": {
        "id": "R3xWyVKLY2o_"
      },
      "execution_count": null,
      "outputs": []
    }
  ]
}
