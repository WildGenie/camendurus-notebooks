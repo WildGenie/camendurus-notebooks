{
  "nbformat": 4,
  "nbformat_minor": 0,
  "metadata": {
    "colab": {
      "provenance": [],
      "collapsed_sections": []
    },
    "kernelspec": {
      "name": "python3",
      "display_name": "Python 3"
    },
    "language_info": {
      "name": "python"
    },
    "accelerator": "GPU",
    "gpuClass": "standard"
  },
  "cells": [
    {
      "cell_type": "markdown",
      "metadata": {
        "id": "view-in-github",
        "colab_type": "text"
      },
      "source": [
        "<a href=\"https://colab.research.google.com/github/camenduru/notebooks/blob/main/camenduru's_stable_diffusion.ipynb\" target=\"_parent\"><img src=\"https://colab.research.google.com/assets/colab-badge.svg\" alt=\"Open In Colab\"/></a>"
      ]
    },
    {
      "cell_type": "code",
      "source": [
        "from google.colab import drive\n",
        "drive.mount('/content/gdrive')"
      ],
      "metadata": {
        "id": "GlFhGnMdz0YY"
      },
      "execution_count": null,
      "outputs": []
    },
    {
      "cell_type": "code",
      "source": [
        "!pip install -qq git+https://github.com/camenduru/diffusers.git\n",
        "!pip install -qq transformers ftfy"
      ],
      "metadata": {
        "id": "eCcNJ_YNyzq9"
      },
      "execution_count": null,
      "outputs": []
    },
    {
      "cell_type": "code",
      "source": [
        "import torch, os, gc\n",
        "from diffusers import StableDiffusionPipeline\n",
        "from torch import autocast"
      ],
      "metadata": {
        "id": "F1WTBlIF4SyA"
      },
      "execution_count": 20,
      "outputs": []
    },
    {
      "cell_type": "code",
      "source": [
        "def patch_conv(cls):\n",
        "\tinit = cls.__init__\n",
        "\tdef __init__(self, *args, **kwargs):\n",
        "\t\treturn init(self, *args, **kwargs, padding_mode='circular')\n",
        "\tcls.__init__ = __init__\n",
        "\n",
        "patch_conv(torch.nn.Conv2d)"
      ],
      "metadata": {
        "id": "IaA5UvktzTlI"
      },
      "execution_count": 5,
      "outputs": []
    },
    {
      "cell_type": "code",
      "source": [
        "pipe = StableDiffusionPipeline.from_pretrained(\"/content/gdrive/MyDrive/AI/StableDiffusion/models/stable-diffusion-v1-4-fp16\", revision=\"fp16\", torch_dtype=torch.float16).to(\"cuda\")\n",
        "pipe.safety_checker = lambda images, **kwargs: [images, [False] * len(images)]\n",
        "\n",
        "batch_idx = 0\n",
        "outputs_path = \"/content/gdrive/MyDrive/AI/StableDiffusion\""
      ],
      "metadata": {
        "id": "V780ZEIDzYHd"
      },
      "execution_count": 6,
      "outputs": []
    },
    {
      "cell_type": "code",
      "source": [
        "from PIL.PngImagePlugin import PngInfo\n",
        "metadata = PngInfo()"
      ],
      "metadata": {
        "id": "0thNo88uU3tS"
      },
      "execution_count": 7,
      "outputs": []
    },
    {
      "cell_type": "code",
      "source": [
        "images_path_name = \"027\"\n",
        "num_batch_images = 1000\n",
        "height = 512\n",
        "width = 512\n",
        "\n",
        "path = os.path.join(outputs_path, images_path_name)\n",
        "\n",
        "if os.path.exists(path) == False:\n",
        "  os.mkdir(path)"
      ],
      "metadata": {
        "id": "nVBs8Pai52gS"
      },
      "execution_count": 22,
      "outputs": []
    },
    {
      "cell_type": "code",
      "source": [
        "prompt = \"cat\"\n",
        "metadata.add_text(\"Prompt\", f\"{prompt}\")\n",
        "metadata.add_text(\"by\", \"camenduru\")\n",
        "\n",
        "for i in range(num_batch_images):\n",
        "    gc.collect()\n",
        "    torch.cuda.empty_cache()\n",
        "    with autocast(\"cuda\"):\n",
        "      image = pipe(prompt, height=height, width=width, num_inference_steps=50, eta=0.0, guidance_scale=7.5)[\"sample\"][0]\n",
        "\n",
        "    image.save(f\"{path}/{images_path_name}_{batch_idx}.png\", pnginfo=metadata)\n",
        "    batch_idx += 1"
      ],
      "metadata": {
        "id": "7tOGrS5lA6-D"
      },
      "execution_count": null,
      "outputs": []
    }
  ]
}
