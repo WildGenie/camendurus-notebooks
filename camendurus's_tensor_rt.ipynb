{
  "cells": [
    {
      "cell_type": "code",
      "execution_count": null,
      "metadata": {
        "colab": {
          "base_uri": "https://localhost:8080/"
        },
        "id": "Ila5z9MlnSBP",
        "outputId": "17d77292-95aa-4380-81fd-8148ce0da08e"
      },
      "outputs": [],
      "source": [
        "!nvcc --version"
      ]
    },
    {
      "cell_type": "code",
      "execution_count": null,
      "metadata": {
        "colab": {
          "base_uri": "https://localhost:8080/"
        },
        "id": "fo0Ur35ynh2i",
        "outputId": "13c92d86-5714-43db-fc04-82c62f0bb8df"
      },
      "outputs": [],
      "source": [
        "!cat /etc/issue\n",
        "import tensorflow as tf\n",
        "print(tf.__version__)"
      ]
    },
    {
      "cell_type": "code",
      "execution_count": null,
      "metadata": {
        "id": "5RR91YLSyvv-"
      },
      "outputs": [],
      "source": [
        "!wget -O nv-tensorrt-repo-ubuntu1804-cuda11.6-trt8.4.3.1-ga-20220813_1-1_amd64.deb https://developer.download.nvidia.com/compute/machine-learning/tensorrt/secure/8.4.3/local_repos/nv-tensorrt-repo-ubuntu1804-cuda11.6-trt8.4.3.1-ga-20220813_1-1_amd64.deb?cgCPpFIfEHVmhO77PONx0tWqjsShdj70VgGn0yJO9MtMeV-7y7j91eOnBVj2dmFFgGKCq4UNV_ILXOihDHSoC9fTdPaNIJBTPG0BegG_M02IY0k8ORYMUh6FYmyzO7AFYILVqRfvqogamjJQrctKrHyxlSwYIvSmBunxUBe_C8KLJslSj_mJotWP9ZuiwPO4VHPB8pxwoAFbjk5_h3e2KBMyWpVx0kM0Hf-HZJgRMRUx-ZUYyxcR1QJ6xcAc2ogoBH4E&t=eyJscyI6ImdzZW8iLCJsc2QiOiJodHRwczovL3d3dy5nb29nbGUuY29tLyJ9"
      ]
    },
    {
      "cell_type": "code",
      "execution_count": null,
      "metadata": {
        "id": "n_Kgy0tjscUC"
      },
      "outputs": [],
      "source": [
        "!sudo dpkg -i nv-tensorrt-repo-ubuntu1804-cuda11.6-trt8.4.3.1-ga-20220813_1-1_amd64.deb\n",
        "!sudo cp /var/nv-tensorrt-local-repo-ubuntu1804-8.4.3-cuda-11.8/*-keyring.gpg /usr/share/keyrings\n",
        "\n",
        "!sudo apt-get update\n",
        "!sudo apt-get install tensorrt\n",
        "\n",
        "!sudo apt-get install python3-libnvinfer-dev\n",
        "!sudo apt-get install uff-converter-tf graphsurgeon-tf onnx-graphsurgeon"
      ]
    },
    {
      "cell_type": "code",
      "execution_count": null,
      "metadata": {
        "id": "-dc1Sqsvtsqu"
      },
      "outputs": [],
      "source": [
        "!pip install pycuda"
      ]
    },
    {
      "cell_type": "code",
      "execution_count": null,
      "metadata": {
        "colab": {
          "base_uri": "https://localhost:8080/"
        },
        "id": "f88d_bomtWSV",
        "outputId": "ad910c76-511d-4626-8360-bd2469d492b1"
      },
      "outputs": [],
      "source": [
        "!dpkg -l | grep libcudnn"
      ]
    },
    {
      "cell_type": "code",
      "execution_count": null,
      "metadata": {
        "colab": {
          "base_uri": "https://localhost:8080/"
        },
        "id": "ALLJj6pWshmB",
        "outputId": "8643e0b2-0f3f-44e0-fb0b-264641e81c9e"
      },
      "outputs": [],
      "source": [
        "!dpkg -l | grep TensorRT"
      ]
    },
    {
      "cell_type": "code",
      "execution_count": null,
      "metadata": {
        "colab": {
          "base_uri": "https://localhost:8080/"
        },
        "id": "0d-3kTlqtn69",
        "outputId": "9ac29eff-42c8-4d7a-b8f7-3a7cef21658c"
      },
      "outputs": [],
      "source": [
        "!pip show pycuda"
      ]
    },
    {
      "cell_type": "code",
      "execution_count": null,
      "metadata": {
        "colab": {
          "base_uri": "https://localhost:8080/"
        },
        "id": "4QUYkcqvuI-1",
        "outputId": "549ed361-e03b-4529-a337-e4f65650796b"
      },
      "outputs": [],
      "source": [
        "import pycuda.autoinit\n",
        "import pycuda.driver as drv\n",
        "import numpy\n",
        "\n",
        "from pycuda.compiler import SourceModule\n",
        "mod = SourceModule(\"\"\"\n",
        "__global__ void multiply_them(float *dest, float *a, float *b)\n",
        "{\n",
        "  const int i = threadIdx.x;\n",
        "  dest[i] = a[i] * b[i];\n",
        "}\n",
        "\"\"\")\n",
        "\n",
        "multiply_them = mod.get_function(\"multiply_them\")\n",
        "\n",
        "a = numpy.random.randn(400).astype(numpy.float32)\n",
        "b = numpy.random.randn(400).astype(numpy.float32)\n",
        "\n",
        "dest = numpy.zeros_like(a)\n",
        "multiply_them(\n",
        "        drv.Out(dest), drv.In(a), drv.In(b),\n",
        "        block=(400,1,1), grid=(1,1))\n",
        "\n",
        "print(dest-a*b)"
      ]
    },
    {
      "cell_type": "code",
      "execution_count": null,
      "metadata": {
        "colab": {
          "base_uri": "https://localhost:8080/"
        },
        "id": "cXQrJfbuvexJ",
        "outputId": "2b783720-a63d-468d-d816-5d25c3cce325"
      },
      "outputs": [],
      "source": [
        "!git clone https://github.com/stochasticai/x-stable-diffusion"
      ]
    },
    {
      "cell_type": "code",
      "execution_count": null,
      "metadata": {
        "id": "E3duusDwyWLS"
      },
      "outputs": [],
      "source": [
        "wget https://developer.download.nvidia.com/compute/redist/nvidia-tensorrt/nvidia_tensorrt-8.4.2.4-cp39-none-linux_x86_64.whl\n",
        "pip install nvidia_tensorrt-8.4.2.4-cp39-none-linux_x86_64.whl"
      ]
    },
    {
      "cell_type": "code",
      "execution_count": null,
      "metadata": {
        "colab": {
          "base_uri": "https://localhost:8080/"
        },
        "id": "kh8bh8BUyHZs",
        "outputId": "0eb93fa8-5d76-4250-a150-4c9ffe97bcb5"
      },
      "outputs": [],
      "source": [
        "!pip show tensorrt"
      ]
    },
    {
      "cell_type": "code",
      "execution_count": null,
      "metadata": {
        "id": "clVZdSPwvyA7"
      },
      "outputs": [],
      "source": [
        "!pip install transformers diffusers scipy uvicorn pydantic fastapi pycuda huggingface_hub"
      ]
    },
    {
      "cell_type": "code",
      "execution_count": null,
      "metadata": {
        "id": "Q6K4XTBvxLCu"
      },
      "outputs": [],
      "source": [
        "!git lfs install "
      ]
    },
    {
      "cell_type": "code",
      "execution_count": null,
      "metadata": {
        "id": "Z-h_7WmtxBde"
      },
      "outputs": [],
      "source": [
        "!git clone -b onnx https://huggingface.co/runwayml/stable-diffusion-v1-5"
      ]
    },
    {
      "cell_type": "code",
      "execution_count": null,
      "metadata": {
        "id": "cP88SJhEx6wC"
      },
      "outputs": [],
      "source": [
        "!python /content/x-stable-diffusion/TensorRT/convert_unet_to_tensorrt.py"
      ]
    },
    {
      "cell_type": "code",
      "execution_count": null,
      "metadata": {
        "id": "xZTVQoZIx7S3"
      },
      "outputs": [],
      "source": [
        "##################################################################################################"
      ]
    },
    {
      "cell_type": "code",
      "execution_count": null,
      "metadata": {
        "id": "LnGxMG-Qs4Ij"
      },
      "outputs": [],
      "source": [
        "version=\"8.5.2-1+cuda11.8\"\n",
        "!sudo apt-get install libcudnn8=${version} libcudnn8-dev=${version}\n",
        "!sudo apt-mark hold libcudnn8 libcudnn8-dev"
      ]
    },
    {
      "cell_type": "code",
      "execution_count": null,
      "metadata": {
        "id": "jS4ul19cq_B_"
      },
      "outputs": [],
      "source": [
        "#/content/nv-tensorrt-local-repo-ubuntu1804-8.5.2-cuda-11.8_1.0-1_amd64.deb"
      ]
    },
    {
      "cell_type": "code",
      "execution_count": null,
      "metadata": {
        "id": "htvCCHprrkv_"
      },
      "outputs": [],
      "source": [
        "#!os=\"ubuntu1804\"\n",
        "#!tag=\"8.5.2-cuda-11.8\"\n",
        "\n",
        "!sudo dpkg -i nv-tensorrt-local-repo-ubuntu1804-8.5.2-cuda-11.8_1.0-1_amd64.deb\n",
        "!sudo cp /var/nv-tensorrt-local-repo-ubuntu1804-8.5.2-cuda-11.8/*-keyring.gpg /usr/share/keyrings\n",
        "\n",
        "# !sudo dpkg -i nv-tensorrt-local-repo-${os}-${tag}_1.0-1_amd64.deb\n",
        "# !sudo cp /var/nv-tensorrt-local-repo-${os}-${tag}/*-keyring.gpg /usr/share/keyrings\n",
        "\n",
        "!sudo apt-get update\n",
        "!sudo apt-get install tensorrt\n",
        "\n",
        "!sudo apt-get install python3-libnvinfer-dev\n",
        "!sudo apt-get install uff-converter-tf graphsurgeon-tf onnx-graphsurgeon"
      ]
    }
  ],
  "metadata": {
    "accelerator": "GPU",
    "colab": {
      "provenance": []
    },
    "gpuClass": "standard",
    "kernelspec": {
      "display_name": "Python 3",
      "name": "python3"
    },
    "language_info": {
      "name": "python"
    }
  },
  "nbformat": 4,
  "nbformat_minor": 0
}
