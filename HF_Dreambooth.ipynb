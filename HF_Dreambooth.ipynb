{
  "nbformat": 4,
  "nbformat_minor": 0,
  "metadata": {
    "colab": {
      "provenance": []
    },
    "kernelspec": {
      "name": "python3",
      "display_name": "Python 3"
    },
    "language_info": {
      "name": "python"
    }
  },
  "cells": [
    {
      "cell_type": "markdown",
      "metadata": {
        "id": "view-in-github"
      },
      "source": [
        "[![Open In Colab](https://colab.research.google.com/assets/colab-badge.svg)](https://colab.research.google.com/github/camenduru/notebooks/blob/main/HF_Dreambooth.ipynb)"
      ]
    },
    {
      "cell_type": "code",
      "execution_count": null,
      "metadata": {
        "id": "pPrggpwgVdHM"
      },
      "outputs": [],
      "source": [
        "!git lfs install\n",
        "!git clone https://huggingface.co/spaces/multimodalart/dreambooth-training\n",
        "\n",
        "import os\n",
        "os.system(f\"sed -i -e 's/debug=True/debug=True, share=True/g' /content/dreambooth-training/app.py\")\n",
        "os.system(f\"sed -i -e '/apolinario/d' /content/dreambooth-training/requirements.txt\")\n",
        "\n",
        "os.system(f\"sed -i -e '/torch/d' /content/dreambooth-training/requirements.txt\")\n",
        "os.system(f\"sed -i -e '/torchvision/d' /content/dreambooth-training/requirements.txt\")\n",
        "\n",
        "!pip install -r /content/dreambooth-training/requirements.txt\n",
        "!pip install gradio\n",
        "!pip install -q https://github.com/camenduru/stable-diffusion-webui-colab/releases/download/0.0.15/xformers-0.0.15.dev0+189828c.d20221207-cp38-cp38-linux_x86_64.whl\n",
        "\n",
        "#!wget https://huggingface.co/spaces/multimodalart/dreambooth-training/resolve/main/mix.zip -O /content/dreambooth-training/mix.zip\n",
        "\n",
        "%cd /content/dreambooth-training\n",
        "!python app.py"
      ]
    }
  ]
}
