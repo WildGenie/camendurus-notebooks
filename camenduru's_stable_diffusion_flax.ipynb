{
  "nbformat": 4,
  "nbformat_minor": 0,
  "metadata": {
    "colab": {
      "provenance": []
    },
    "kernelspec": {
      "name": "python3",
      "display_name": "Python 3"
    },
    "language_info": {
      "name": "python"
    },
    "accelerator": "TPU"
  },
  "cells": [
    {
      "cell_type": "markdown",
      "metadata": {
        "id": "view-in-github"
      },
      "source": [
        "[![Open In Colab](https://colab.research.google.com/assets/colab-badge.svg)](https://colab.research.google.com/github/camenduru/notebooks/blob/main/camenduru's_stable_diffusion_flax.ipynb)"
      ]
    },
    {
      "cell_type": "code",
      "source": [
        "from google.colab import drive\n",
        "drive.mount('/content/gdrive')\n",
        "\n",
        "!pip install --upgrade jax jaxlib \n",
        "\n",
        "import jax.tools.colab_tpu\n",
        "jax.tools.colab_tpu.setup_tpu('tpu_driver_20221011')\n",
        "\n",
        "!pip install flax diffusers transformers ftfy\n",
        "jax.devices()\n",
        "\n",
        "import jax\n",
        "import numpy as np\n",
        "from flax.jax_utils import replicate\n",
        "from flax.training.common_utils import shard\n",
        "\n",
        "import os, gc, requests, subprocess, random\n",
        "from diffusers import FlaxStableDiffusionPipeline\n",
        "\n",
        "from IPython.display import clear_output, HTML\n",
        "from base64 import b64encode\n",
        "clear_output()"
      ],
      "metadata": {
        "id": "BH7CrFTy81w9"
      },
      "execution_count": null,
      "outputs": []
    },
    {
      "cell_type": "code",
      "source": [
        "from huggingface_hub import notebook_login\n",
        "!git config --global credential.helper store\n",
        "notebook_login()"
      ],
      "metadata": {
        "id": "c8WiZyYL9R3V"
      },
      "execution_count": null,
      "outputs": []
    },
    {
      "cell_type": "code",
      "source": [
        "pipe, params = FlaxStableDiffusionPipeline.from_pretrained(\"CompVis/stable-diffusion-v1-4\", revision=\"bf16\", dtype=jax.numpy.bfloat16, safety_checker=None)\n",
        "params = replicate(params)\n",
        "clear_output()"
      ],
      "metadata": {
        "id": "NgFF2Rop9Z4H"
      },
      "execution_count": 9,
      "outputs": []
    },
    {
      "cell_type": "code",
      "source": [
        "from PIL import Image\n",
        "def image_grid(imgs, rows, cols):\n",
        "    w,h = imgs[0].size\n",
        "    grid = Image.new('RGB', size=(cols*w, rows*h))\n",
        "    for i, img in enumerate(imgs): grid.paste(img, box=(i%cols*w, i//cols*h))\n",
        "    return grid\n",
        "\n",
        "token = '' #@param {type: 'string'}\n",
        "channel_id = 0 #@param {type: 'integer'}\n",
        "header = {\"authorization\": f\"Bot {token}\"}\n",
        "by = 'camenduru' #@param {type: 'string'}\n",
        "\n",
        "root_folder = '/content/gdrive/MyDrive/AI/StableDiffusion' #@param {type: 'string'}\n",
        "image_folder = '000' #@param {type: 'string'}\n",
        "if os.path.exists(f\"{root_folder}/{image_folder}\") == False:\n",
        "  os.mkdir(f\"{root_folder}/{image_folder}\")\n",
        "name = max([int(f[:f.index('.')]) for f in os.listdir(f\"{root_folder}/{image_folder}\")], default=0)\n",
        "\n",
        "from PIL.PngImagePlugin import PngInfo\n",
        "metadata = PngInfo()\n",
        " \n",
        "height = 512 #@param {type: 'integer'}\n",
        "width = 512 #@param {type: 'integer'}\n",
        "\n",
        "def generate(prompt, name):\n",
        "  metadata.add_text(\"Prompt\", f\"{prompt}\")\n",
        "  metadata.add_text(\"by\", f\"{by}\")\n",
        "  gc.collect()\n",
        "  real_seed = random.randint(0, 2147483647)\n",
        "  prng_seed = jax.random.PRNGKey(real_seed)\n",
        "  num_samples = jax.device_count()\n",
        "  prompt_n = num_samples * [prompt]\n",
        "  prompt_ids = pipe.prepare_inputs(prompt_n)\n",
        "  prng_seed = jax.random.split(prng_seed, jax.device_count())\n",
        "  prompt_ids = shard(prompt_ids)\n",
        "  images = pipe(prompt_ids, params, prng_seed, num_inference_steps=50, height=height, width=width, guidance_scale=7.5, jit=True).images\n",
        "  images = pipe.numpy_to_pil(np.asarray(images.reshape((num_samples,) + images.shape[-3:])))\n",
        "  image = image_grid(images, 2, 4)\n",
        "  image.save(f\"{root_folder}/{image_folder}/{name:04}.png\", pnginfo=metadata)\n",
        "  files = {f\"{image_folder}_{name:04}.png\" : open(f\"{root_folder}/{image_folder}/{name:04}.png\", \"rb\").read()}\n",
        "  payload = {\"content\":f\"{prompt}\"}\n",
        "  r = requests.post(f\"https://discord.com/api/v9/channels/{channel_id}/messages\", data=payload, headers=header, files=files).text\n",
        "  clear_output()\n",
        "\n",
        "max_files = 100 #@param {type: 'integer'}\n",
        "is_from_prompts_txt = False #@param {type: 'boolean'}\n",
        "prompts_txt = 'prompts.txt' #@param {type: 'string'}\n",
        "if(is_from_prompts_txt):\n",
        "  while name < max_files:\n",
        "    with open(f'{prompts_txt}', \"r\") as file:\n",
        "      prompts = file.readlines()\n",
        "    for prompt in prompts:\n",
        "      name += 1\n",
        "      generate(prompt, name)\n",
        "else:\n",
        "  while name < max_files:\n",
        "    prompt = 'panda by Mike Winkelmann Beeple, ultra-detailed pen and ink illustration' #@param {type: 'string'}\n",
        "    name += 1\n",
        "    generate(prompt, name)\n"
      ],
      "metadata": {
        "id": "78Bcq6JH9rXL"
      },
      "execution_count": null,
      "outputs": []
    }
  ]
}
