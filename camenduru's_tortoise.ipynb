{
  "nbformat": 4,
  "nbformat_minor": 0,
  "metadata": {
    "colab": {
      "provenance": [],
      "collapsed_sections": []
    },
    "kernelspec": {
      "name": "python3",
      "display_name": "Python 3"
    },
    "language_info": {
      "name": "python"
    },
    "accelerator": "GPU"
  },
  "cells": [
    {
      "cell_type": "markdown",
      "metadata": {
        "id": "view-in-github"
      },
      "source": [
        "[![Open In Colab](https://colab.research.google.com/assets/colab-badge.svg)](https://colab.research.google.com/github/camenduru/notebooks/blob/main/camenduru's_tortoise.ipynb)"
      ]
    },
    {
      "cell_type": "code",
      "execution_count": null,
      "metadata": {
        "id": "JrK20I32grP6"
      },
      "outputs": [],
      "source": [
        "!git clone https://github.com/neonbjb/tortoise-tts.git\n",
        "%cd tortoise-tts\n",
        "!pip3 install -r requirements.txt\n",
        "!python3 setup.py install"
      ]
    },
    {
      "cell_type": "code",
      "source": [
        "!python3 tortoise/read.py --voice=tom --textfile=/content/text.txt --preset=high_quality --output_path=.\n",
        "\n",
        "import IPython\n",
        "IPython.display.Audio('tom/combined.wav')"
      ],
      "metadata": {
        "id": "t66yqWgu68KL",
        "colab": {
          "base_uri": "https://localhost:8080/"
        },
        "outputId": "2e679792-a615-4b9e-a445-ef59a4fffca2"
      },
      "execution_count": null
    }
  ]
}
