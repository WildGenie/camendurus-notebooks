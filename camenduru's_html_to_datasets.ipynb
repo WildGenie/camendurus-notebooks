{
  "nbformat": 4,
  "nbformat_minor": 0,
  "metadata": {
    "colab": {
      "provenance": []
    },
    "kernelspec": {
      "name": "python3",
      "display_name": "Python 3"
    },
    "language_info": {
      "name": "python"
    }
  },
  "cells": [
    {
      "cell_type": "markdown",
      "metadata": {
        "id": "view-in-github"
      },
      "source": [
        "[![Open In Colab](https://colab.research.google.com/assets/colab-badge.svg)](https://colab.research.google.com/github/camenduru/notebooks/blob/main/camenduru's_html_to_datasets.ipynb)"
      ]
    },
    {
      "cell_type": "code",
      "source": [
        "!pip install datasets bs4"
      ],
      "metadata": {
        "id": "ExL6QTs80tn4"
      },
      "execution_count": null,
      "outputs": []
    },
    {
      "cell_type": "code",
      "source": [
        "from huggingface_hub import notebook_login\n",
        "!git config --global credential.helper store\n",
        "notebook_login()"
      ],
      "metadata": {
        "id": "dYNuukd4AOP7"
      },
      "execution_count": null,
      "outputs": []
    },
    {
      "cell_type": "code",
      "source": [
        "!mkdir plushies"
      ],
      "metadata": {
        "id": "juJqLu-Z7FAA"
      },
      "execution_count": null,
      "outputs": []
    },
    {
      "cell_type": "code",
      "source": [
        "import urllib.request\n",
        "from bs4 import BeautifulSoup\n",
        "\n",
        "with open('/content/plushies.txt') as html:\n",
        "    content = html.read()\n",
        "\n",
        "soup = BeautifulSoup(content)\n",
        "for imgtag in soup.find_all('img'):\n",
        "  url=imgtag['src']\n",
        "  name = url.split('/')[-1]\n",
        "  headers={'user-agent': 'Mozilla/5.0'}\n",
        "  r=requests.get(url, headers=headers)\n",
        "  with open(f\"/content/plushies/{name}\", 'wb') as f:\n",
        "      f.write(r.content)"
      ],
      "metadata": {
        "id": "uyAtj6x_3nz7"
      },
      "execution_count": null,
      "outputs": []
    },
    {
      "cell_type": "code",
      "source": [
        "from datasets import load_dataset, Dataset, Image\n",
        "\n",
        "with open('/content/plushies.txt') as html:\n",
        "  content = html.read()\n",
        "\n",
        "texts = []\n",
        "images = []\n",
        "soup = BeautifulSoup(content)\n",
        "for imgtag in soup.find_all('img'):\n",
        "  texts.append(imgtag['alt'])\n",
        "  images.append(f\"/content/plushies/{imgtag['src'].split('/')[-1]}\")\n",
        "  \n",
        "ds = Dataset.from_dict({\"image\": images, \"text\": texts})\n",
        "ds = ds.cast_column(\"image\", Image())"
      ],
      "metadata": {
        "id": "EhxZkJzt-i3W"
      },
      "execution_count": null,
      "outputs": []
    },
    {
      "cell_type": "code",
      "source": [
        "ds.push_to_hub(\"camenduru/plushies\")"
      ],
      "metadata": {
        "id": "Q62zPmku_zO7"
      },
      "execution_count": null,
      "outputs": []
    },
    {
      "cell_type": "code",
      "source": [
        "ds = load_dataset(\"camenduru/plushies\")"
      ],
      "metadata": {
        "id": "A_O_uz3P_1V3"
      },
      "execution_count": null,
      "outputs": []
    },
    {
      "cell_type": "code",
      "execution_count": null,
      "metadata": {
        "id": "RwEOGAnh0lGz"
      },
      "outputs": [],
      "source": [
        "ds.shape"
      ]
    }
  ]
}
