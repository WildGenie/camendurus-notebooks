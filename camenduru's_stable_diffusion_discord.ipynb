{
  "nbformat": 4,
  "nbformat_minor": 0,
  "metadata": {
    "colab": {
      "provenance": [],
      "collapsed_sections": []
    },
    "kernelspec": {
      "name": "python3",
      "display_name": "Python 3"
    },
    "language_info": {
      "name": "python"
    },
    "accelerator": "GPU",
    "gpuClass": "standard"
  },
  "cells": [
    {
      "cell_type": "markdown",
      "metadata": {
        "id": "view-in-github",
        "colab_type": "text"
      },
      "source": [
        "<a href=\"https://colab.research.google.com/github/camenduru/notebooks/blob/main/camenduru's_stable_diffusion_discord.ipynb\" target=\"_parent\"><img src=\"https://colab.research.google.com/assets/colab-badge.svg\" alt=\"Open In Colab\"/></a>"
      ]
    },
    {
      "cell_type": "code",
      "source": [
        "from google.colab import drive\n",
        "drive.mount('/content/gdrive')"
      ],
      "metadata": {
        "id": "GlFhGnMdz0YY"
      },
      "execution_count": null,
      "outputs": []
    },
    {
      "cell_type": "code",
      "source": [
        "!pip install -qq git+https://github.com/camenduru/diffusers.git\n",
        "!pip install -qq transformers ftfy"
      ],
      "metadata": {
        "id": "eCcNJ_YNyzq9"
      },
      "execution_count": null,
      "outputs": []
    },
    {
      "cell_type": "code",
      "source": [
        "import torch, os, gc, requests, random\n",
        "from diffusers import StableDiffusionPipeline\n",
        "from torch import autocast"
      ],
      "metadata": {
        "id": "F1WTBlIF4SyA"
      },
      "execution_count": 2,
      "outputs": []
    },
    {
      "cell_type": "code",
      "source": [
        "def patch_conv(cls):\n",
        "\tinit = cls.__init__\n",
        "\tdef __init__(self, *args, **kwargs):\n",
        "\t\treturn init(self, *args, **kwargs, padding_mode='circular')\n",
        "\tcls.__init__ = __init__\n",
        "\n",
        "patch_conv(torch.nn.Conv2d)"
      ],
      "metadata": {
        "id": "IaA5UvktzTlI"
      },
      "execution_count": 4,
      "outputs": []
    },
    {
      "cell_type": "code",
      "source": [
        "pipe = StableDiffusionPipeline.from_pretrained(\"/content/gdrive/MyDrive/AI/StableDiffusion/models/stable-diffusion-v1-4-fp16\", revision=\"fp16\", torch_dtype=torch.float16).to(\"cuda\")\n",
        "pipe.safety_checker = lambda images, **kwargs: [images, [False] * len(images)]"
      ],
      "metadata": {
        "id": "V780ZEIDzYHd"
      },
      "execution_count": 3,
      "outputs": []
    },
    {
      "cell_type": "code",
      "source": [
        "token = 'Bot TAyMDM1NTQ2MzI4MTM3NzM5MA.GRCh6J.N_6KM35TKuvMNZvrkoIXOjmZk3zHqDArpUoz6Q'\n",
        "channel_id = 1020517233757261896\n",
        "header = {\"authorization\": token}\n",
        "\n",
        "from PIL.PngImagePlugin import PngInfo\n",
        "metadata = PngInfo()\n",
        "\n",
        "height = 512\n",
        "width = 512\n",
        "prompt = \"cat\"\n",
        "metadata.add_text(\"Prompt\", f\"{prompt}\")\n",
        "metadata.add_text(\"by\", \"camenduru\")\n",
        "\n",
        "while True:\n",
        "    gc.collect()\n",
        "    torch.cuda.empty_cache()\n",
        "    with autocast(\"cuda\"):\n",
        "      image = pipe(prompt, height=height, width=width, num_inference_steps=50, eta=0.0, guidance_scale=7.5)[\"sample\"][0]\n",
        "\n",
        "    random_name = random.randint(0,10000000)\n",
        "    image.save(f\"{random_name}.png\", pnginfo=metadata)\n",
        "    files = {f\"{random_name}.png\" : open(f\"{random_name}.png\", \"rb\").read()}\n",
        "    payload = {\"content\":f\"{prompt} by camenduru\"}\n",
        "    r = requests.post(f\"https://discord.com/api/v9/channels/{channel_id}/messages\", data=payload, headers=header, files=files).text"
      ],
      "metadata": {
        "id": "7tOGrS5lA6-D"
      },
      "execution_count": null,
      "outputs": []
    }
  ]
}
