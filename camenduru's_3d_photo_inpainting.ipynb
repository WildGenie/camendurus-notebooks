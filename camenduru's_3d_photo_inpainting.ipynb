{
  "nbformat": 4,
  "nbformat_minor": 0,
  "metadata": {
    "colab": {
      "provenance": [],
      "collapsed_sections": []
    },
    "kernelspec": {
      "name": "python3",
      "display_name": "Python 3"
    },
    "accelerator": "GPU"
  },
  "cells": [
    {
      "cell_type": "markdown",
      "metadata": {
        "id": "view-in-github"
      },
      "source": [
        "[![Open In Colab](https://colab.research.google.com/assets/colab-badge.svg)](https://colab.research.google.com/github/camenduru/notebooks/blob/main/camenduru's_3d_photo_inpainting.ipynb)"
      ]
    },
    {
      "cell_type": "code",
      "metadata": {
        "id": "5o-EIMeaghU0"
      },
      "source": [
        "from google.colab import drive\n",
        "drive.mount('/content/gdrive')\n",
        "\n",
        "from IPython.display import clear_output, HTML\n",
        "from base64 import b64encode\n",
        "\n",
        "!pip install vispy transforms3d imageio==2.4.1 networkx==2.3 pyyaml==5.4.1\n",
        " \n",
        "!git lfs install\n",
        "\n",
        "!git clone https://huggingface.co/camenduru/3dphoto\n",
        "!git clone https://github.com/camenduru/3d-photo-inpainting\n",
        "%cd /content/3d-photo-inpainting\n",
        "\n",
        "!git clone https://github.com/compphoto/BoostingMonocularDepth.git\n",
        "!mkdir -p /content/3d-photo-inpainting/BoostingMonocularDepth/pix2pix/checkpoints/mergemodel\n",
        "!mkdir /content/3d-photo-inpainting/checkpoints\n",
        "!mkdir /content/3d-photo-inpainting/image\n",
        "!mkdir /content/3d-photo-inpainting/BoostingMonocularDepth/outputs\n",
        "\n",
        "!mv /content/3dphoto/color-model.pth /content/3d-photo-inpainting/checkpoints\n",
        "!mv /content/3dphoto/depth-model.pth /content/3d-photo-inpainting/checkpoints\n",
        "!mv /content/3dphoto/edge-model.pth /content/3d-photo-inpainting/checkpoints\n",
        "!mv /content/3dphoto/latest_net_G.pth  /content/3d-photo-inpainting/BoostingMonocularDepth/pix2pix/checkpoints/mergemodel\n",
        "!mv /content/3dphoto/midas-model1.pt /content/3d-photo-inpainting/MiDaS/model.pt\n",
        "!mv /content/3dphoto/midas-model2.pt /content/3d-photo-inpainting/BoostingMonocularDepth/midas/model.pt\n",
        "\n",
        "!rm /content/3d-photo-inpainting/image/moon.jpg\n",
        "!rm /content/3d-photo-inpainting/video/moon_circle.mp4\n",
        "!rm /content/3d-photo-inpainting/video/moon_dolly-zoom-in.mp4\n",
        "!rm /content/3d-photo-inpainting/video/moon_swing.mp4\n",
        "!rm /content/3d-photo-inpainting/video/moon_zoom-in.mp4\n",
        "!rm /content/3d-photo-inpainting/depth/moon.npy\n",
        "!rm /content/3d-photo-inpainting/depth/moon.png\n",
        "\n",
        "clear_output()"
      ],
      "execution_count": null,
      "outputs": []
    },
    {
      "cell_type": "code",
      "metadata": {
        "id": "n-Kl6fo1oows"
      },
      "source": [
        "%cd image\n",
        "from google.colab import files\n",
        "uploaded = files.upload()\n",
        "for fn in uploaded.keys():\n",
        "  print('User uploaded file \"{name}\" with length {length} bytes'.format(\n",
        "      name=fn, length=len(uploaded[fn])))\n",
        "%cd .."
      ],
      "execution_count": null,
      "outputs": []
    },
    {
      "cell_type": "code",
      "metadata": {
        "id": "i5-MWEjfBjYx"
      },
      "source": [
        "!python main.py --config argument.yml"
      ],
      "execution_count": null,
      "outputs": []
    },
    {
      "cell_type": "code",
      "source": [
        "mp4 = open(f'/content/3d-photo-inpainting/video/VIDEO.mp4','rb').read()\n",
        "data_url = \"data:video/mp4;base64,\" + b64encode(mp4).decode()\n",
        "HTML(f'<video width=512 controls><source src=\"{data_url}\" type=\"video/mp4\"></video>')"
      ],
      "metadata": {
        "id": "ZAkKO6Cw2iDx"
      },
      "execution_count": null,
      "outputs": []
    },
    {
      "cell_type": "code",
      "source": [
        "!cp -r /content/3d-photo-inpainting/video /content/gdrive/MyDrive/AI/3DPhoto"
      ],
      "metadata": {
        "id": "uGpcUorKObOc"
      },
      "execution_count": 9,
      "outputs": []
    }
  ]
}
