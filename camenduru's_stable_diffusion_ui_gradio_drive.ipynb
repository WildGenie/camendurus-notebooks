{
  "nbformat": 4,
  "nbformat_minor": 0,
  "metadata": {
    "colab": {
      "private_outputs": true,
      "provenance": [],
      "collapsed_sections": []
    },
    "kernelspec": {
      "name": "python3",
      "display_name": "Python 3"
    },
    "language_info": {
      "name": "python"
    },
    "accelerator": "GPU",
    "gpuClass": "standard"
  },
  "cells": [
    {
      "cell_type": "markdown",
      "metadata": {
        "id": "view-in-github"
      },
      "source": [
        "[![Open In Colab](https://colab.research.google.com/assets/colab-badge.svg)](https://colab.research.google.com/github/camenduru/notebooks/blob/main/camenduru's_stable_diffusion_ui_gradio_drive.ipynb)"
      ]
    },
    {
      "cell_type": "code",
      "source": [
        "import os\n",
        "from google.colab import drive\n",
        "drive.mount('/content/gdrive')\n",
        "\n",
        "!git clone https://github.com/AUTOMATIC1111/stable-diffusion-webui\n",
        "!wget -q https://gist.githubusercontent.com/camenduru/9ec5f8141db9902e375967e93250860f/raw/c1a03eb447548adbef1858c0e69d3567a390d2f4/run_n_times.py -O /content/stable-diffusion-webui/scripts/run_n_times.py\n",
        "%cd stable-diffusion-webui\n",
        "\n",
        "!sed -i -e 's/numpy==1.23.3/numpy==1.21.6/g' requirements_versions.txt\n",
        "!sed -i -e 's/fairscale==0.4.9/fairscale==0.4.6/g' requirements_versions.txt\n",
        "\n",
        "if not (os.path.exists(\"/content/gdrive/MyDrive/AI\")):\n",
        "  os.system(\"mkdir /content/gdrive/MyDrive/AI\")\n",
        "if not (os.path.exists(\"/content/gdrive/MyDrive/AI/StableDiffusion\")):\n",
        "  os.system(\"mkdir /content/gdrive/MyDrive/AI/StableDiffusion\")\n",
        "if not (os.path.exists(\"/content/gdrive/MyDrive/AI/StableDiffusion/models\")):\n",
        "  os.system(\"mkdir /content/gdrive/MyDrive/AI/StableDiffusion/models\")\n",
        "if not (os.path.exists(\"/content/gdrive/MyDrive/AI/StableDiffusion/models/embeddings\")):\n",
        "  os.system(\"mkdir /content/gdrive/MyDrive/AI/StableDiffusion/models/embeddings\")"
      ],
      "metadata": {
        "id": "SaAJk33ppFw1"
      },
      "execution_count": null,
      "outputs": []
    },
    {
      "cell_type": "code",
      "source": [
        "#@markdown Which ai model you want? You should select at least one model.\n",
        "stable = False #@param {type:\"boolean\"}\n",
        "waifu = True #@param {type:\"boolean\"}\n",
        "hentai = False #@param {type:\"boolean\"}\n",
        "furry = False #@param {type:\"boolean\"}\n" ,
        "\n",
        "if(stable):\n",
        "  if not (os.path.isfile(\"/content/stable-diffusion-webui/models/Stable-diffusion/sd-v1-4.ckpt\")):\n",
        "    os.system(\"wget https://huggingface.co/camenduru/sd14/resolve/main/sd-v1-4.ckpt -O /content/stable-diffusion-webui/models/Stable-diffusion/sd-v1-4.ckpt\")\n",
        "if(waifu):\n",
        "  if not (os.path.isfile(\"/content/stable-diffusion-webui/models/Stable-diffusion/waifu-v1-3-e8.ckpt\")):\n",
        "    os.system(\"wget https://huggingface.co/hakurei/waifu-diffusion-v1-3/resolve/main/model-epoch08-float32.ckpt -O /content/stable-diffusion-webui/models/Stable-diffusion/waifu-v1-3-e8.ckpt\")\n",
        "if(hentai):\n",
        "  if not (os.path.isfile(\"/content/stable-diffusion-webui/models/Stable-diffusion/1412p.ckpt\")):\n",
        "    os.system(\"wget https://huggingface.co/lilpotat/1412p/resolve/main/1412p.ckpt -O /content/stable-diffusion-webui/models/Stable-diffusion/1412p.ckpt\")\n",
        "if(furry):\n",
        "  if not (os.path.isfile(\"/content/stable-diffusion-webui/models/Stable-diffusion/hd.ckpt\")):\n",
        "    os.system(\"wget https://huggingface.co/lilpotat/y-e18/resolve/main/y-e18.ckpt -O /content/stable-diffusion-webui/models/Stable-diffusion/y-e18.ckpt\")"
      ],
      "metadata": {
        "id": "sTG8IisM4mKN"
      },
      "execution_count": null,
      "outputs": []
    },
    {
      "cell_type": "code",
      "source": [
        "!python launch.py --share --opt-split-attention --styles-file /content/gdrive/MyDrive/AI/StableDiffusion/models/styles.csv --ui-settings-file /content/gdrive/MyDrive/AI/StableDiffusion/models/config.json --ui-config-file /content/gdrive/MyDrive/AI/StableDiffusion/models/ui-config.json --embeddings-dir /content/gdrive/MyDrive/AI/StableDiffusion/models/embeddings"
      ],
      "metadata": {
        "id": "INlfgmpdw3Q1"
      },
      "execution_count": null,
      "outputs": []
    }
  ]
}
