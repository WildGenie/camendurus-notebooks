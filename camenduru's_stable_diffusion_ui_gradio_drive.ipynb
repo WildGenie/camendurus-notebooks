{
  "nbformat": 4,
  "nbformat_minor": 0,
  "metadata": {
    "colab": {
      "private_outputs": true,
      "provenance": [],
      "collapsed_sections": []
    },
    "kernelspec": {
      "name": "python3",
      "display_name": "Python 3"
    },
    "language_info": {
      "name": "python"
    },
    "accelerator": "GPU",
    "gpuClass": "standard"
  },
  "cells": [
    {
      "cell_type": "code",
      "source": [
        "from google.colab import drive\n",
        "drive.mount('/content/gdrive')\n",
        "\n",
        "!git clone https://github.com/camenduru/stable-diffusion-webui\n",
        "%cd stable-diffusion-webui\n",
        "\n",
        "!pip install -qq -r requirements.txt\n",
        "!mkdir repositories\n",
        "!git clone https://github.com/CompVis/stable-diffusion.git repositories/stable-diffusion\n",
        "!git clone https://github.com/CompVis/taming-transformers.git repositories/taming-transformers\n",
        "!git clone https://github.com/sczhou/CodeFormer.git repositories/CodeFormer\n",
        "!git clone https://github.com/salesforce/BLIP.git repositories/BLIP\n",
        "!pip install -qq -r repositories/CodeFormer/requirements.txt \n",
        "\n",
        "!python webui.py --share --opt-split-attention --ckpt /content/gdrive/MyDrive/AI/StableDiffusion/models/sd-v1-4.ckpt --gfpgan-model /content/gdrive/MyDrive/AI/StableDiffusion/models/GFPGANv1.3.pth --styles-file /content/gdrive/MyDrive/AI/StableDiffusion/models/styles.csv --ui-settings-file /content/gdrive/MyDrive/AI/StableDiffusion/models/config.json --ui-config-file /content/gdrive/MyDrive/AI/StableDiffusion/models/ui-config.json --embeddings-dir /content/gdrive/MyDrive/AI/StableDiffusion/models/embeddings"
      ],
      "metadata": {
        "id": "SaAJk33ppFw1"
      },
      "execution_count": null,
      "outputs": []
    }
  ]
}