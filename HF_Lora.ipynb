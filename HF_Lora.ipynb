{
  "nbformat": 4,
  "nbformat_minor": 0,
  "metadata": {
    "colab": {
      "provenance": []
    },
    "kernelspec": {
      "name": "python3",
      "display_name": "Python 3"
    },
    "language_info": {
      "name": "python"
    },
    "accelerator": "GPU",
    "gpuClass": "standard"
  },
  "cells": [
    {
      "cell_type": "code",
      "execution_count": null,
      "metadata": {
        "id": "u15OvQkxH7WN"
      },
      "outputs": [],
      "source": [
        "!git clone https://huggingface.co/spaces/hysts/LoRA-SD-training\n",
        "\n",
        "!pip install -r /content/LoRA-SD-training/requirements.txt\n",
        "!pip install gradio\n",
        "!pip install -q https://github.com/camenduru/stable-diffusion-webui-colab/releases/download/0.0.15/xformers-0.0.15.dev0+189828c.d20221207-cp38-cp38-linux_x86_64.whl\n",
        "!git clone https://github.com/cloneofsimo/lora /content/LoRA-SD-training/lora\n",
        "\n",
        "import os\n",
        "os.system(f\"sed -i -e 's/share=False/share=True/g' /content/LoRA-SD-training/app.py\")\n",
        "\n",
        "%cd /content/LoRA-SD-training\n",
        "!python app.py"
      ]
    }
  ]
}
