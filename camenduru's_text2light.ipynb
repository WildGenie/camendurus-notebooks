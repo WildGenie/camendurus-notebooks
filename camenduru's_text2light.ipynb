{
  "nbformat": 4,
  "nbformat_minor": 0,
  "metadata": {
    "colab": {
      "provenance": []
    },
    "kernelspec": {
      "name": "python3",
      "display_name": "Python 3"
    },
    "language_info": {
      "name": "python"
    },
    "accelerator": "GPU"
  },
  "cells": [
    {
      "cell_type": "markdown",
      "source": [
        "[![Open In Colab](https://colab.research.google.com/assets/colab-badge.svg)](https://colab.research.google.com/github/camenduru/notebooks/blob/main/camenduru's_text2light.ipynb)"
      ],
      "metadata": {
        "id": "N-PYGJQml35a"
      }
    },
    {
      "cell_type": "code",
      "source": [
        "from google.colab import drive\n",
        "drive.mount('/content/gdrive')\n",
        "\n",
        "!pip install faiss-cpu tensorboardx ftfy einops transformers streamlit omegaconf==2.0 pudb==2019.2 pytorch-lightning==1.6.0\n",
        "\n",
        "!git clone https://github.com/FrozenBurning/Text2Light\n",
        "%cd /content/Text2Light\n",
        "\n",
        "!git lfs install\n",
        "!git clone https://huggingface.co/camenduru/text2light models"
      ],
      "metadata": {
        "id": "W7adzSv7ghtk"
      },
      "execution_count": null,
      "outputs": []
    },
    {
      "cell_type": "code",
      "source": [
        "import os\n",
        "os.environ[\"OPENCV_IO_ENABLE_OPENEXR\"]=\"1\"\n",
        "\n",
        "!python text2light.py -rg /content/models/global_sampler_clip -rl /content/models/local_sampler_outdoor --outdir /content/gdrive/MyDrive/AI/Text2Light/outputs/001 --text \"beach blue and white cloudy sky during daytime\" --clip clip_emb.npy --sritmo /content/models/sritmo.pth --sr_factor 4"
      ],
      "metadata": {
        "id": "MyZ2c6OeyaTI"
      },
      "execution_count": null,
      "outputs": []
    }
  ]
}
