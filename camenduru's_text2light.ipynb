{
  "nbformat": 4,
  "nbformat_minor": 0,
  "metadata": {
    "colab": {
      "provenance": []
    },
    "kernelspec": {
      "name": "python3",
      "display_name": "Python 3"
    },
    "language_info": {
      "name": "python"
    },
    "accelerator": "GPU"
  },
  "cells": [
    {
      "cell_type": "markdown",
      "metadata": {
        "id": "view-in-github",
        "colab_type": "text"
      },
      "source": [
        "<a href=\"https://colab.research.google.com/github/camenduru/notebooks/blob/main/camenduru's_text2light.ipynb\" target=\"_parent\"><img src=\"https://colab.research.google.com/assets/colab-badge.svg\" alt=\"Open In Colab\"/></a>"
      ]
    },
    {
      "cell_type": "code",
      "source": [
        "!pip install faiss-cpu tensorboardx ftfy einops transformers streamlit omegaconf==2.0 pudb==2019.2 pytorch-lightning==1.0.8"
      ],
      "metadata": {
        "id": "6wkK6Z2jayUF"
      },
      "execution_count": null,
      "outputs": []
    },
    {
      "cell_type": "code",
      "source": [
        "!pip install --upgrade gdown\n",
        "!gdown 'https://drive.google.com/drive/u/3/folders/1X8wUNjYYQ8l3YG1_Fwb0CqFvKvKOQ3Go' -O models --folder"
      ],
      "metadata": {
        "id": "RT6g_rQSXwj4"
      },
      "execution_count": null,
      "outputs": []
    },
    {
      "cell_type": "code",
      "source": [
        "!git clone https://github.com/FrozenBurning/Text2Light\n",
        "%cd /content/Text2Light"
      ],
      "metadata": {
        "id": "1jRzSZQmXyhg"
      },
      "execution_count": null,
      "outputs": []
    },
    {
      "cell_type": "code",
      "source": [
        "import os\n",
        "os.environ[\"OPENCV_IO_ENABLE_OPENEXR\"]=\"1\"\n",
        "\n",
        "!python text2light.py -rg /content/models/global_sampler_clip -rl /content/models/local_sampler_outdoor --outdir /content/drive/MyDrive/AI/Text2Light/outputs/005 --text \"beach blue and white cloudy sky during daytime\" --clip clip_emb.npy --sritmo /content/models/sritmo.pth --sr_factor 4"
      ],
      "metadata": {
        "id": "MyZ2c6OeyaTI"
      },
      "execution_count": null,
      "outputs": []
    }
  ]
}
